{
 "cells": [
  {
   "cell_type": "code",
   "execution_count": null,
   "metadata": {},
   "outputs": [],
   "source": [
    "import pandas as pd\n",
    "import numpy as np"
   ]
  },
  {
   "cell_type": "code",
   "execution_count": 63,
   "metadata": {},
   "outputs": [],
   "source": [
    "def GetDataCsmar(file_name):\n",
    "    data_df = pd.read_csv('./data/{}'.format(file_name), encoding='gbk', sep='\\t', skiprows=[1, 2])\n",
    "    data_df.Accper = pd.to_datetime(data_df.Accper)\n",
    "    data_df = data_df.loc[(data_df.Typrep == 'A') & (data_df.Accper >= pd.datetime(2006, 12, 31))]\n",
    "    code_df = pd.read_csv('./data/{}'.format(file_name), encoding='gbk', sep='\\t', nrows=2).T.reset_index()\n",
    "    code_df.columns=['code', 'name', 'unit']\n",
    "    return data_df, code_df"
   ]
  },
  {
   "cell_type": "code",
   "execution_count": null,
   "metadata": {},
   "outputs": [],
   "source": [
    "data_bs, code_bs = GetDataCsmar('FS_Combas.txt')"
   ]
  },
  {
   "cell_type": "code",
   "execution_count": null,
   "metadata": {},
   "outputs": [],
   "source": [
    "data_ins, code_ins = GetDataCsmar('FS_Comins.txt')"
   ]
  },
  {
   "cell_type": "code",
   "execution_count": null,
   "metadata": {},
   "outputs": [],
   "source": [
    "data_cfd, code_cfd = GetDataCsmar('FS_Comscfd.txt')"
   ]
  },
  {
   "cell_type": "code",
   "execution_count": null,
   "metadata": {},
   "outputs": [],
   "source": [
    "data_cfi, code_cfi = GetDataCsmar('FS_Comscfi.txt')"
   ]
  },
  {
   "cell_type": "code",
   "execution_count": null,
   "metadata": {},
   "outputs": [],
   "source": [
    "rawdata = pd.merge(data_bs, data_ins, how='inner', on=['Stkcd', 'Accper', 'Typrep'])\n",
    "rawdata = pd.merge(rawdata, data_cfd, how='inner', on=['Stkcd', 'Accper', 'Typrep'])\n",
    "rawdata = pd.merge(rawdata, data_cfi, how='inner', on=['Stkcd', 'Accper', 'Typrep'])"
   ]
  },
  {
   "cell_type": "code",
   "execution_count": null,
   "metadata": {},
   "outputs": [],
   "source": [
    "rawdata.sort_values(['Accper', 'Stkcd'])"
   ]
  },
  {
   "cell_type": "code",
   "execution_count": null,
   "metadata": {},
   "outputs": [],
   "source": []
  }
 ],
 "metadata": {
  "kernelspec": {
   "display_name": "Python 3",
   "language": "python",
   "name": "python3"
  },
  "language_info": {
   "codemirror_mode": {
    "name": "ipython",
    "version": 3
   },
   "file_extension": ".py",
   "mimetype": "text/x-python",
   "name": "python",
   "nbconvert_exporter": "python",
   "pygments_lexer": "ipython3",
   "version": "3.6.4"
  }
 },
 "nbformat": 4,
 "nbformat_minor": 2
}
